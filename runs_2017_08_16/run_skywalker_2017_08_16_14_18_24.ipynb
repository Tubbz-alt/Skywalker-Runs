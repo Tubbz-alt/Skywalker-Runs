{
 "cells": [
  {
   "cell_type": "markdown",
   "metadata": {},
   "source": [
    "# Skywalker algorithm against the lcls mirror systems"
   ]
  },
  {
   "cell_type": "code",
   "execution_count": null,
   "metadata": {
    "collapsed": true
   },
   "outputs": [],
   "source": [
    "SIMULATION = False\n",
    "ALIGNMENT = 'HOMS'\n",
    "#ALIGNMENT = 'MEC'\n",
    "#ALIGNMENT = 'MFX'\n",
    "#ALIGNMENT = 'XCS'\n",
    "\n",
    "alignment_goals = dict(HOMS=[220, 300],\n",
    "                       MEC=[270],\n",
    "                       MFX=[250],\n",
    "                       XCS=[270, 270])\n",
    "first_steps = 6 # Naive first step for the parameters search\n",
    "tolerances = 10 # Tolerance of each target in Pixels\n",
    "average = 75 # Number of shots to average over\n",
    "timeout = 600 # Timeout for an alignment\n",
    "\n",
    "# PARAMETERS FOR SIMULATION ONLY\n",
    "centroid_noise = 5.0 # Noise level of centroid measurements\n",
    "infinite_yag = False # Assume all yags are infinitely large"
   ]
  },
  {
   "cell_type": "code",
   "execution_count": null,
   "metadata": {
    "collapsed": true
   },
   "outputs": [],
   "source": [
    "############\n",
    "# Standard #\n",
    "############\n",
    "import os\n",
    "import sys\n",
    "import logging\n",
    "import argparse\n",
    "\n",
    "###############\n",
    "# Third Party #\n",
    "###############\n",
    "from bluesky import RunEngine\n",
    "from bluesky.tests.utils import MsgCollector\n",
    "from bluesky.plans import run_wrapper\n",
    "from pcdsdevices.sim import pim, source, mirror"
   ]
  },
  {
   "cell_type": "code",
   "execution_count": null,
   "metadata": {
    "collapsed": true
   },
   "outputs": [],
   "source": [
    "\"\"\"\n",
    "Parameters\n",
    "----------\n",
    "\"\"\"\n",
    "#Create logging config with INFO to the console and DEBUG to the file\n",
    "logging.basicConfig(level=logging.DEBUG,\n",
    "                    format='%(asctime)s %(name)-12s %(levelname)-8s %(message)s',\n",
    "                    datefmt='%m-%d %H:%M',\n",
    "                    filename='./skywalker_debug.log',\n",
    "                    filemode='a')\n",
    "console = logging.StreamHandler()\n",
    "console.setLevel(logging.INFO)\n",
    "formatter = logging.Formatter('%(name)s - %(message)s')\n",
    "console.setFormatter(formatter)\n",
    "logging.getLogger('').addHandler(console)\n",
    "\n",
    "from pswalker.examples  import patch_pims\n",
    "from pswalker.skywalker import skywalker, lcls_RE\n",
    "from pswalker.config import homs_system\n",
    "from pswalker.plans import walk_to_pixel\n",
    "from pswalker.watcher import Watcher\n",
    "#Instantiate simulation\n",
    "if not SIMULATION:\n",
    "    print(\"*\"*80)\n",
    "    print(\"* WARNING: Running on real devices in Production...\")\n",
    "    print(\"*\"*80)\n",
    "    input(\"Press any key to continue...\")\n",
    "    system = homs_system()\n",
    "    m1h = system['m1h']\n",
    "    m1h2 = system['m1h2']\n",
    "    m2h = system['m2h']\n",
    "    m2h2 = system['m2h2']\n",
    "    xrtm2 = system['xrtm2']\n",
    "    xrtm22 = system['xrtm22']\n",
    "    hx2 = system['hx2']\n",
    "    dg3 = system['dg3']\n",
    "    mfxdg1 = system['mfxdg1']\n",
    "    mecy1 = system['mecy1']\n",
    "    m1 = m1h\n",
    "    m2 = m2h\n",
    "    y1 = hx2\n",
    "    y2 = dg3\n",
    "else:\n",
    "    s = source.Undulator('test_undulator')\n",
    "    m1 = mirror.OffsetMirror('test_m1h', 'test_m1h_xy',\n",
    "                              z=90.510, alpha=0.0014)\n",
    "    m2 = mirror.OffsetMirror('test_m2h', 'test_m2h_xy',\n",
    "                              x=0.0317324, z=101.843, alpha=0.0014)\n",
    "    xrtm2 = mirror.OffsetMirror('test_xrtm2', 'test_xrtm2_xy',\n",
    "                                 x=0.0317324, z=200, alpha=0.0014)\n",
    "    y1 = pim.PIM('test_p3h', x=0.0317324, z=103.660,\n",
    "             zero_outside_yag= not infinite_yag)\n",
    "    y2 = pim.PIM('test_dg3', x=0.0317324, z=375.000,\n",
    "             zero_outside_yag= not infinite_yag)\n",
    "    mecy1 = pim.PIM('test_mecy1', x=0.0317324, z=350,\n",
    "             zero_outside_yag= not infinite_yag)\n",
    "    mfxdg1 = mecy1\n",
    "    patch_pims([y1, y2], mirrors=[m1, m2], source=s)\n",
    "    patch_pims([mecy1], mirrors=[xrtm2], source=s)\n",
    "\n",
    "    #Add noise\n",
    "    y1.centroid_noise = centroid_noise\n",
    "    y2.centroid_noise = centroid_noise\n",
    "    mecy1.centroid_noise = centroid_noise\n",
    "\n",
    "alignment_yags = dict(HOMS=[y1, y2],\n",
    "                      MEC=[mecy1],\n",
    "                      MFX=[mfxdg1],\n",
    "                      XCS=['pbty', 'xcssb1y'])\n",
    "alignment_mots = dict(HOMS=[m1, m2],\n",
    "                      MEC=[xrtm2],\n",
    "                      MFX=[xrtm2],\n",
    "                      XCS=['xrtm1', 'xrtm3'])"
   ]
  },
  {
   "cell_type": "code",
   "execution_count": null,
   "metadata": {
    "collapsed": true
   },
   "outputs": [],
   "source": [
    "#Create Skywalker plan\n",
    "yags = alignment_yags[ALIGNMENT]\n",
    "mots = alignment_mots[ALIGNMENT]\n",
    "goals = alignment_goals[ALIGNMENT]\n",
    "if SIMULATION:\n",
    "    det_rbv = 'detector_stats2_centroid_x'\n",
    "else:\n",
    "    det_rbv = 'detector_stats2_centroid_y'\n",
    "mot_rbv = 'pitch'\n",
    "plan = skywalker(yags, mots, det_rbv, mot_rbv,\n",
    "        goals, first_steps=first_steps, tolerances=tolerances,\n",
    "        averages=average, timeout=timeout, sim=SIMULATION, use_filters=not SIMULATION)"
   ]
  },
  {
   "cell_type": "code",
   "execution_count": null,
   "metadata": {
    "collapsed": true
   },
   "outputs": [],
   "source": [
    "#Create RunEngine\n",
    "if SIMULATION:\n",
    "    RE = RunEngine()\n",
    "else:\n",
    "    RE = lcls_RE()\n",
    "RE.record_interruptions = True\n",
    "#Subscribe a Watcher instance\n",
    "watcher = Watcher()\n",
    "RE.msg_hook = watcher\n",
    "RE.subscribe('all',  watcher)\n"
   ]
  },
  {
   "cell_type": "code",
   "execution_count": null,
   "metadata": {
    "collapsed": true
   },
   "outputs": [],
   "source": [
    "logging.debug(\"Start of Run\")\n",
    "RE(plan)"
   ]
  },
  {
   "cell_type": "code",
   "execution_count": null,
   "metadata": {
    "collapsed": true
   },
   "outputs": [],
   "source": [
    "#Print Run Statistics\n",
    "report = watcher.report()"
   ]
  },
  {
   "cell_type": "markdown",
   "metadata": {},
   "source": [
    "Run Notes\n",
    "------"
   ]
  },
  {
   "cell_type": "markdown",
   "metadata": {},
   "source": []
  }
 ],
 "metadata": {
  "kernelspec": {
   "display_name": "Python 3",
   "language": "python",
   "name": "python3"
  },
  "language_info": {
   "codemirror_mode": {
    "name": "ipython",
    "version": 3
   },
   "file_extension": ".py",
   "mimetype": "text/x-python",
   "name": "python",
   "nbconvert_exporter": "python",
   "pygments_lexer": "ipython3",
   "version": "3.6.2"
  }
 },
 "nbformat": 4,
 "nbformat_minor": 2
}
