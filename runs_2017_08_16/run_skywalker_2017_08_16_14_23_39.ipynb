{
 "cells": [
  {
   "cell_type": "markdown",
   "metadata": {},
   "source": [
    "# Skywalker algorithm against the lcls mirror systems"
   ]
  },
  {
   "cell_type": "code",
   "execution_count": 1,
   "metadata": {
    "collapsed": true
   },
   "outputs": [],
   "source": [
    "SIMULATION = False\n",
    "ALIGNMENT = 'HOMS'\n",
    "#ALIGNMENT = 'MEC'\n",
    "#ALIGNMENT = 'MFX'\n",
    "#ALIGNMENT = 'XCS'\n",
    "\n",
    "alignment_goals = dict(HOMS=[220, 300],\n",
    "                       MEC=[270],\n",
    "                       MFX=[250],\n",
    "                       XCS=[270, 270])\n",
    "first_steps = 6 # Naive first step for the parameters search\n",
    "tolerances = 10 # Tolerance of each target in Pixels\n",
    "average = 75 # Number of shots to average over\n",
    "timeout = 600 # Timeout for an alignment\n",
    "\n",
    "# PARAMETERS FOR SIMULATION ONLY\n",
    "centroid_noise = 5.0 # Noise level of centroid measurements\n",
    "infinite_yag = False # Assume all yags are infinitely large"
   ]
  },
  {
   "cell_type": "code",
   "execution_count": 2,
   "metadata": {
    "collapsed": true
   },
   "outputs": [],
   "source": [
    "############\n",
    "# Standard #\n",
    "############\n",
    "import os\n",
    "import sys\n",
    "import logging\n",
    "import argparse\n",
    "\n",
    "###############\n",
    "# Third Party #\n",
    "###############\n",
    "from bluesky import RunEngine\n",
    "from bluesky.tests.utils import MsgCollector\n",
    "from bluesky.plans import run_wrapper\n",
    "from pcdsdevices.sim import pim, source, mirror"
   ]
  },
  {
   "cell_type": "code",
   "execution_count": 3,
   "metadata": {},
   "outputs": [
    {
     "name": "stdout",
     "output_type": "stream",
     "text": [
      "********************************************************************************\n",
      "* WARNING: Running on real devices in Production...\n",
      "********************************************************************************\n",
      "Press any key to continue...gg\n"
     ]
    }
   ],
   "source": [
    "\"\"\"\n",
    "Parameters\n",
    "----------\n",
    "\"\"\"\n",
    "#Create logging config with INFO to the console and DEBUG to the file\n",
    "logging.basicConfig(level=logging.DEBUG,\n",
    "                    format='%(asctime)s %(name)-12s %(levelname)-8s %(message)s',\n",
    "                    datefmt='%m-%d %H:%M',\n",
    "                    filename='./skywalker_debug.log',\n",
    "                    filemode='a')\n",
    "console = logging.StreamHandler()\n",
    "console.setLevel(logging.INFO)\n",
    "formatter = logging.Formatter('%(name)s - %(message)s')\n",
    "console.setFormatter(formatter)\n",
    "logging.getLogger('').addHandler(console)\n",
    "\n",
    "from pswalker.examples  import patch_pims\n",
    "from pswalker.skywalker import skywalker, lcls_RE\n",
    "from pswalker.config import homs_system\n",
    "from pswalker.plans import walk_to_pixel\n",
    "from pswalker.watcher import Watcher\n",
    "#Instantiate simulation\n",
    "if not SIMULATION:\n",
    "    print(\"*\"*80)\n",
    "    print(\"* WARNING: Running on real devices in Production...\")\n",
    "    print(\"*\"*80)\n",
    "    input(\"Press any key to continue...\")\n",
    "    system = homs_system()\n",
    "    m1h = system['m1h']\n",
    "    m1h2 = system['m1h2']\n",
    "    m2h = system['m2h']\n",
    "    m2h2 = system['m2h2']\n",
    "    xrtm2 = system['xrtm2']\n",
    "    xrtm22 = system['xrtm22']\n",
    "    hx2 = system['hx2']\n",
    "    dg3 = system['dg3']\n",
    "    mfxdg1 = system['mfxdg1']\n",
    "    mecy1 = system['mecy1']\n",
    "    m1 = m1h\n",
    "    m2 = m2h\n",
    "    y1 = hx2\n",
    "    y2 = dg3\n",
    "else:\n",
    "    s = source.Undulator('test_undulator')\n",
    "    m1 = mirror.OffsetMirror('test_m1h', 'test_m1h_xy',\n",
    "                              z=90.510, alpha=0.0014)\n",
    "    m2 = mirror.OffsetMirror('test_m2h', 'test_m2h_xy',\n",
    "                              x=0.0317324, z=101.843, alpha=0.0014)\n",
    "    xrtm2 = mirror.OffsetMirror('test_xrtm2', 'test_xrtm2_xy',\n",
    "                                 x=0.0317324, z=200, alpha=0.0014)\n",
    "    y1 = pim.PIM('test_p3h', x=0.0317324, z=103.660,\n",
    "             zero_outside_yag= not infinite_yag)\n",
    "    y2 = pim.PIM('test_dg3', x=0.0317324, z=375.000,\n",
    "             zero_outside_yag= not infinite_yag)\n",
    "    mecy1 = pim.PIM('test_mecy1', x=0.0317324, z=350,\n",
    "             zero_outside_yag= not infinite_yag)\n",
    "    mfxdg1 = mecy1\n",
    "    patch_pims([y1, y2], mirrors=[m1, m2], source=s)\n",
    "    patch_pims([mecy1], mirrors=[xrtm2], source=s)\n",
    "\n",
    "    #Add noise\n",
    "    y1.centroid_noise = centroid_noise\n",
    "    y2.centroid_noise = centroid_noise\n",
    "    mecy1.centroid_noise = centroid_noise\n",
    "\n",
    "alignment_yags = dict(HOMS=[y1, y2],\n",
    "                      MEC=[mecy1],\n",
    "                      MFX=[mfxdg1],\n",
    "                      XCS=['pbty', 'xcssb1y'])\n",
    "alignment_mots = dict(HOMS=[m1, m2],\n",
    "                      MEC=[xrtm2],\n",
    "                      MFX=[xrtm2],\n",
    "                      XCS=['xrtm1', 'xrtm3'])"
   ]
  },
  {
   "cell_type": "code",
   "execution_count": 4,
   "metadata": {
    "collapsed": true
   },
   "outputs": [],
   "source": [
    "#Create Skywalker plan\n",
    "yags = alignment_yags[ALIGNMENT]\n",
    "mots = alignment_mots[ALIGNMENT]\n",
    "goals = alignment_goals[ALIGNMENT]\n",
    "if SIMULATION:\n",
    "    det_rbv = 'detector_stats2_centroid_x'\n",
    "else:\n",
    "    det_rbv = 'detector_stats2_centroid_y'\n",
    "mot_rbv = 'pitch'\n",
    "plan = skywalker(yags, mots, det_rbv, mot_rbv,\n",
    "        goals, first_steps=first_steps, tolerances=tolerances,\n",
    "        averages=average, timeout=timeout, sim=SIMULATION, use_filters=not SIMULATION)"
   ]
  },
  {
   "cell_type": "code",
   "execution_count": 5,
   "metadata": {},
   "outputs": [
    {
     "data": {
      "text/plain": [
       "0"
      ]
     },
     "execution_count": 5,
     "metadata": {},
     "output_type": "execute_result"
    }
   ],
   "source": [
    "#Create RunEngine\n",
    "if SIMULATION:\n",
    "    RE = RunEngine()\n",
    "else:\n",
    "    RE = lcls_RE()\n",
    "RE.record_interruptions = True\n",
    "#Subscribe a Watcher instance\n",
    "watcher = Watcher()\n",
    "RE.msg_hook = watcher\n",
    "RE.subscribe('all',  watcher)\n"
   ]
  },
  {
   "cell_type": "code",
   "execution_count": 6,
   "metadata": {},
   "outputs": [
    {
     "name": "stdout",
     "output_type": "stream",
     "text": [
      "At least one suspender has tripped. The plan will begin when all suspenders are ready. Justification:\n",
      "    1. Signal GDET:FEE1:241:ENRC_avg = 0.6780610194062342 is below 1\n",
      "\n",
      "Suspending... To get to the prompt, hit Ctrl-C twice to pause.\n",
      "Suspender BeamEnergySuspendFloor(AvgSignal(name='GDET:FEE1:241:ENRC_avg', value=1.0020714391684624, timestamp=1502918524.6686897), sleep=5, pre_plan=<generator object PvSuspenderBase.__init__.<locals>.pre_plan at 0x7fc52933c150>, post_plan=<generator object PvSuspenderBase.__init__.<locals>.post_plan at 0x7fc52933c570>,tripped_message=) reports a return to nominal conditions. Will sleep for 5 seconds and then release suspension at 2017-08-16 14:22:09.\n",
      "Suspending....To get prompt hit Ctrl-C twice to pause.\n",
      "Suspension occurred at 2017-08-16 14:22:04.\n",
      "Justification for this suspension:\n",
      "Signal GDET:FEE1:241:ENRC_avg = 0.99964275860474805 is below 1\n",
      "Suspender BeamEnergySuspendFloor(AvgSignal(name='GDET:FEE1:241:ENRC_avg', value=1.0039696015764434, timestamp=1502918524.6900253), sleep=5, pre_plan=<generator object PvSuspenderBase.__init__.<locals>.pre_plan at 0x7fc52933c150>, post_plan=<generator object PvSuspenderBase.__init__.<locals>.post_plan at 0x7fc52933c570>,tripped_message=) reports a return to nominal conditions. Will sleep for 5 seconds and then release suspension at 2017-08-16 14:22:09.\n",
      "Suspending....To get prompt hit Ctrl-C twice to pause.\n",
      "Suspension occurred at 2017-08-16 14:22:04.\n",
      "Justification for this suspension:\n",
      "Signal GDET:FEE1:241:ENRC_avg = 0.99593287551757836 is below 1\n",
      "Suspender BeamEnergySuspendFloor(AvgSignal(name='GDET:FEE1:241:ENRC_avg', value=1.004046106391711, timestamp=1502918533.7569385), sleep=5, pre_plan=<generator object PvSuspenderBase.__init__.<locals>.pre_plan at 0x7fc52933c150>, post_plan=<generator object PvSuspenderBase.__init__.<locals>.post_plan at 0x7fc52933c570>,tripped_message=) reports a return to nominal conditions. Will sleep for 5 seconds and then release suspension at 2017-08-16 14:22:18.\n",
      "Suspending....To get prompt hit Ctrl-C twice to pause.\n",
      "Suspension occurred at 2017-08-16 14:22:13.\n",
      "Justification for this suspension:\n",
      "Signal GDET:FEE1:241:ENRC_avg = 0.9999708180342054 is below 1\n",
      "Suspender BeamEnergySuspendFloor(AvgSignal(name='GDET:FEE1:241:ENRC_avg', value=1.0000413654107956, timestamp=1502918533.8238645), sleep=5, pre_plan=<generator object PvSuspenderBase.__init__.<locals>.pre_plan at 0x7fc52933c150>, post_plan=<generator object PvSuspenderBase.__init__.<locals>.post_plan at 0x7fc52933c570>,tripped_message=) reports a return to nominal conditions. Will sleep for 5 seconds and then release suspension at 2017-08-16 14:22:18.\n",
      "Suspending....To get prompt hit Ctrl-C twice to pause.\n",
      "Suspension occurred at 2017-08-16 14:22:14.\n",
      "Justification for this suspension:\n",
      "Signal GDET:FEE1:241:ENRC_avg = 0.99489347907229553 is below 1\n",
      "Suspender BeamEnergySuspendFloor(AvgSignal(name='GDET:FEE1:241:ENRC_avg', value=1.0045934136928076, timestamp=1502918534.9475715), sleep=5, pre_plan=<generator object PvSuspenderBase.__init__.<locals>.pre_plan at 0x7fc52933c150>, post_plan=<generator object PvSuspenderBase.__init__.<locals>.post_plan at 0x7fc52933c570>,tripped_message=) reports a return to nominal conditions. Will sleep for 5 seconds and then release suspension at 2017-08-16 14:22:19.\n",
      "Suspending....To get prompt hit Ctrl-C twice to pause.\n",
      "Suspension occurred at 2017-08-16 14:22:14.\n",
      "Justification for this suspension:\n",
      "Signal GDET:FEE1:241:ENRC_avg = 0.99768765909509971 is below 1\n",
      "Suspender BeamEnergySuspendFloor(AvgSignal(name='GDET:FEE1:241:ENRC_avg', value=1.0008932791416556, timestamp=1502918534.9934323), sleep=5, pre_plan=<generator object PvSuspenderBase.__init__.<locals>.pre_plan at 0x7fc52933c150>, post_plan=<generator object PvSuspenderBase.__init__.<locals>.post_plan at 0x7fc52933c570>,tripped_message=) reports a return to nominal conditions. Will sleep for 5 seconds and then release suspension at 2017-08-16 14:22:19.\n"
     ]
    },
    {
     "name": "stderr",
     "output_type": "stream",
     "text": [
      "pcdsdevices.epics.mirror - Waiting for m1h_pitch to finish move ...\n",
      "pcdsdevices.epics.mirror - Waiting for m2h_pitch to finish move ...\n"
     ]
    },
    {
     "name": "stdout",
     "output_type": "stream",
     "text": [
      "Suspending....To get prompt hit Ctrl-C twice to pause.\n",
      "Suspension occurred at 2017-08-16 14:22:27.\n",
      "Justification for this suspension:\n",
      "Signal GDET:FEE1:241:ENRC_avg = 0.99859467324692786 is below 1\n",
      "Suspender BeamEnergySuspendFloor(AvgSignal(name='GDET:FEE1:241:ENRC_avg', value=1.2941542261140579, timestamp=1502918547.3292625), sleep=5, pre_plan=<generator object PvSuspenderBase.__init__.<locals>.pre_plan at 0x7fc52933c150>, post_plan=<generator object PvSuspenderBase.__init__.<locals>.post_plan at 0x7fc52933c570>,tripped_message=) reports a return to nominal conditions. Will sleep for 5 seconds and then release suspension at 2017-08-16 14:22:32.\n",
      "Suspending....To get prompt hit Ctrl-C twice to pause.\n",
      "Suspension occurred at 2017-08-16 14:22:27.\n",
      "Justification for this suspension:\n",
      "Signal GDET:FEE1:241:ENRC_avg = 0.99765996760148479 is below 1\n",
      "Suspender BeamEnergySuspendFloor(AvgSignal(name='GDET:FEE1:241:ENRC_avg', value=1.2964444492096983, timestamp=1502918547.3347363), sleep=5, pre_plan=<generator object PvSuspenderBase.__init__.<locals>.pre_plan at 0x7fc52933c150>, post_plan=<generator object PvSuspenderBase.__init__.<locals>.post_plan at 0x7fc52933c570>,tripped_message=) reports a return to nominal conditions. Will sleep for 5 seconds and then release suspension at 2017-08-16 14:22:32.\n"
     ]
    },
    {
     "name": "stderr",
     "output_type": "stream",
     "text": [
      "ophyd.utils.epics_pvs - Waiting for dg3_detector_image1_blocking_callbacks to be set from 'No' to 'Yes'...\n",
      "ophyd.utils.epics_pvs - Waiting for dg3_detector_stats2_blocking_callbacks to be set from 'No' to 'Yes'...\n",
      "ophyd.utils.epics_pvs - Waiting for dg3_detector_stats2_enable to be set from 0.0 to 1...\n"
     ]
    },
    {
     "name": "stdout",
     "output_type": "stream",
     "text": [
      "Suspending....To get prompt hit Ctrl-C twice to pause.\n",
      "Suspension occurred at 2017-08-16 14:22:38.\n",
      "Justification for this suspension:\n",
      "Signal GDET:FEE1:241:ENRC_avg = 0.998230798543841 is below 1\n",
      "Suspender BeamEnergySuspendFloor(AvgSignal(name='GDET:FEE1:241:ENRC_avg', value=1.2724813467721492, timestamp=1502918558.656678), sleep=5, pre_plan=<generator object PvSuspenderBase.__init__.<locals>.pre_plan at 0x7fc52933c150>, post_plan=<generator object PvSuspenderBase.__init__.<locals>.post_plan at 0x7fc52933c570>,tripped_message=) reports a return to nominal conditions. Will sleep for 5 seconds and then release suspension at 2017-08-16 14:22:43.\n",
      "Suspending....To get prompt hit Ctrl-C twice to pause.\n",
      "Suspension occurred at 2017-08-16 14:22:38.\n",
      "Justification for this suspension:\n",
      "Signal GDET:FEE1:241:ENRC_avg = 0.99889292193581014 is below 1\n",
      "Suspender BeamEnergySuspendFloor(AvgSignal(name='GDET:FEE1:241:ENRC_avg', value=1.2724813467721492, timestamp=1502918558.656678), sleep=5, pre_plan=<generator object PvSuspenderBase.__init__.<locals>.pre_plan at 0x7fc52933c150>, post_plan=<generator object PvSuspenderBase.__init__.<locals>.post_plan at 0x7fc52933c570>,tripped_message=) reports a return to nominal conditions. Will sleep for 5 seconds and then release suspension at 2017-08-16 14:22:43.\n",
      "Suspending....To get prompt hit Ctrl-C twice to pause.\n",
      "Suspension occurred at 2017-08-16 14:22:38.\n",
      "Justification for this suspension:\n",
      "Signal GDET:FEE1:241:ENRC_avg = 0.99087880117785521 is below 1\n",
      "Suspender BeamEnergySuspendFloor(AvgSignal(name='GDET:FEE1:241:ENRC_avg', value=1.2724813467721492, timestamp=1502918558.656678), sleep=5, pre_plan=<generator object PvSuspenderBase.__init__.<locals>.pre_plan at 0x7fc52933c150>, post_plan=<generator object PvSuspenderBase.__init__.<locals>.post_plan at 0x7fc52933c570>,tripped_message=) reports a return to nominal conditions. Will sleep for 5 seconds and then release suspension at 2017-08-16 14:22:43.\n"
     ]
    },
    {
     "name": "stderr",
     "output_type": "stream",
     "text": [
      "ophyd.utils.epics_pvs - Waiting for dg3_detector_stats2_enable to be set from 1.0 to 0.0...\n",
      "ophyd.utils.epics_pvs - Waiting for dg3_detector_stats2_blocking_callbacks to be set from 'Yes' to 'No'...\n",
      "ophyd.utils.epics_pvs - Waiting for dg3_detector_image1_blocking_callbacks to be set from 'Yes' to 'No'...\n"
     ]
    },
    {
     "ename": "TimeoutError",
     "evalue": "Failed to connect to SATT:FEE:320:COM:GO",
     "output_type": "error",
     "traceback": [
      "\u001b[0;31m---------------------------------------------------------------------------\u001b[0m",
      "\u001b[0;31mTimeoutError\u001b[0m                              Traceback (most recent call last)",
      "\u001b[0;32m<ipython-input-6-29996440b408>\u001b[0m in \u001b[0;36m<module>\u001b[0;34m()\u001b[0m\n\u001b[1;32m      1\u001b[0m \u001b[0mlogging\u001b[0m\u001b[0;34m.\u001b[0m\u001b[0mdebug\u001b[0m\u001b[0;34m(\u001b[0m\u001b[0;34m\"Start of Run\"\u001b[0m\u001b[0;34m)\u001b[0m\u001b[0;34m\u001b[0m\u001b[0m\n\u001b[0;32m----> 2\u001b[0;31m \u001b[0mRE\u001b[0m\u001b[0;34m(\u001b[0m\u001b[0mplan\u001b[0m\u001b[0;34m)\u001b[0m\u001b[0;34m\u001b[0m\u001b[0m\n\u001b[0m",
      "\u001b[0;32m~/conda/installs/rhel7/envs/skywalker/lib/python3.6/site-packages/bluesky/run_engine.py\u001b[0m in \u001b[0;36m__call__\u001b[0;34m(self, plan, subs, raise_if_interrupted, **metadata_kw)\u001b[0m\n\u001b[1;32m    597\u001b[0m                     \u001b[0;31m# it (unless it is a canceled error)\u001b[0m\u001b[0;34m\u001b[0m\u001b[0;34m\u001b[0m\u001b[0m\n\u001b[1;32m    598\u001b[0m                     \u001b[0;32mif\u001b[0m \u001b[0mexc\u001b[0m \u001b[0;32mis\u001b[0m \u001b[0;32mnot\u001b[0m \u001b[0;32mNone\u001b[0m\u001b[0;34m:\u001b[0m\u001b[0;34m\u001b[0m\u001b[0m\n\u001b[0;32m--> 599\u001b[0;31m                         \u001b[0;32mraise\u001b[0m \u001b[0mexc\u001b[0m\u001b[0;34m\u001b[0m\u001b[0m\n\u001b[0m\u001b[1;32m    600\u001b[0m \u001b[0;34m\u001b[0m\u001b[0m\n\u001b[1;32m    601\u001b[0m             \u001b[0;32mif\u001b[0m \u001b[0mraise_if_interrupted\u001b[0m \u001b[0;32mand\u001b[0m \u001b[0mself\u001b[0m\u001b[0;34m.\u001b[0m\u001b[0m_interrupted\u001b[0m\u001b[0;34m:\u001b[0m\u001b[0;34m\u001b[0m\u001b[0m\n",
      "\u001b[0;32m~/conda/installs/rhel7/envs/skywalker/lib/python3.6/site-packages/bluesky/run_engine.py\u001b[0m in \u001b[0;36m_run\u001b[0;34m(self)\u001b[0m\n\u001b[1;32m   1021\u001b[0m             \u001b[0mself\u001b[0m\u001b[0;34m.\u001b[0m\u001b[0mlog\u001b[0m\u001b[0;34m.\u001b[0m\u001b[0merror\u001b[0m\u001b[0;34m(\u001b[0m\u001b[0;34m\"Run aborted\"\u001b[0m\u001b[0;34m)\u001b[0m\u001b[0;34m\u001b[0m\u001b[0m\n\u001b[1;32m   1022\u001b[0m             \u001b[0mself\u001b[0m\u001b[0;34m.\u001b[0m\u001b[0mlog\u001b[0m\u001b[0;34m.\u001b[0m\u001b[0merror\u001b[0m\u001b[0;34m(\u001b[0m\u001b[0;34m\"%r\"\u001b[0m\u001b[0;34m,\u001b[0m \u001b[0merr\u001b[0m\u001b[0;34m)\u001b[0m\u001b[0;34m\u001b[0m\u001b[0m\n\u001b[0;32m-> 1023\u001b[0;31m             \u001b[0;32mraise\u001b[0m \u001b[0merr\u001b[0m\u001b[0;34m\u001b[0m\u001b[0m\n\u001b[0m\u001b[1;32m   1024\u001b[0m         \u001b[0;32mfinally\u001b[0m\u001b[0;34m:\u001b[0m\u001b[0;34m\u001b[0m\u001b[0m\n\u001b[1;32m   1025\u001b[0m             \u001b[0;31m# Some done_callbacks may still be alive in other threads.\u001b[0m\u001b[0;34m\u001b[0m\u001b[0;34m\u001b[0m\u001b[0m\n",
      "\u001b[0;32m~/conda/installs/rhel7/envs/skywalker/lib/python3.6/site-packages/bluesky/run_engine.py\u001b[0m in \u001b[0;36m_run\u001b[0;34m(self)\u001b[0m\n\u001b[1;32m    919\u001b[0m                         \u001b[0mresp\u001b[0m \u001b[0;34m=\u001b[0m \u001b[0mself\u001b[0m\u001b[0;34m.\u001b[0m\u001b[0m_response_stack\u001b[0m\u001b[0;34m.\u001b[0m\u001b[0mpop\u001b[0m\u001b[0;34m(\u001b[0m\u001b[0;34m)\u001b[0m\u001b[0;34m\u001b[0m\u001b[0m\n\u001b[1;32m    920\u001b[0m                         \u001b[0;32mtry\u001b[0m\u001b[0;34m:\u001b[0m\u001b[0;34m\u001b[0m\u001b[0m\n\u001b[0;32m--> 921\u001b[0;31m                             \u001b[0mmsg\u001b[0m \u001b[0;34m=\u001b[0m \u001b[0mself\u001b[0m\u001b[0;34m.\u001b[0m\u001b[0m_plan_stack\u001b[0m\u001b[0;34m[\u001b[0m\u001b[0;34m-\u001b[0m\u001b[0;36m1\u001b[0m\u001b[0;34m]\u001b[0m\u001b[0;34m.\u001b[0m\u001b[0msend\u001b[0m\u001b[0;34m(\u001b[0m\u001b[0mresp\u001b[0m\u001b[0;34m)\u001b[0m\u001b[0;34m\u001b[0m\u001b[0m\n\u001b[0m\u001b[1;32m    922\u001b[0m                         \u001b[0;31m# We have exhausted the top generator\u001b[0m\u001b[0;34m\u001b[0m\u001b[0;34m\u001b[0m\u001b[0m\n\u001b[1;32m    923\u001b[0m                         \u001b[0;32mexcept\u001b[0m \u001b[0mStopIteration\u001b[0m\u001b[0;34m:\u001b[0m\u001b[0;34m\u001b[0m\u001b[0m\n",
      "\u001b[0;32m/reg/neh/home4/zlentz/skywalker/pswalker/pswalker/skywalker.py\u001b[0m in \u001b[0;36mskywalker\u001b[0;34m(detectors, motors, det_fields, mot_fields, goals, first_steps, gradients, tolerances, averages, timeout, sim, use_filters, md)\u001b[0m\n\u001b[1;32m     84\u001b[0m         \u001b[0;32mreturn\u001b[0m \u001b[0;34m(\u001b[0m\u001b[0;32myield\u001b[0m \u001b[0;32mfrom\u001b[0m \u001b[0mwalk\u001b[0m\u001b[0;34m)\u001b[0m\u001b[0;34m\u001b[0m\u001b[0m\n\u001b[1;32m     85\u001b[0m \u001b[0;34m\u001b[0m\u001b[0m\n\u001b[0;32m---> 86\u001b[0;31m     \u001b[0;32mreturn\u001b[0m \u001b[0;34m(\u001b[0m\u001b[0;32myield\u001b[0m \u001b[0;32mfrom\u001b[0m \u001b[0mletsgo\u001b[0m\u001b[0;34m(\u001b[0m\u001b[0;34m)\u001b[0m\u001b[0;34m)\u001b[0m\u001b[0;34m\u001b[0m\u001b[0m\n\u001b[0m",
      "\u001b[0;32m~/conda/installs/rhel7/envs/skywalker/lib/python3.6/site-packages/bluesky/utils.py\u001b[0m in \u001b[0;36mdec_inner\u001b[0;34m(*inner_args, **inner_kwargs)\u001b[0m\n\u001b[1;32m    914\u001b[0m                 \u001b[0mplan\u001b[0m \u001b[0;34m=\u001b[0m \u001b[0mgen_func\u001b[0m\u001b[0;34m(\u001b[0m\u001b[0;34m*\u001b[0m\u001b[0minner_args\u001b[0m\u001b[0;34m,\u001b[0m \u001b[0;34m**\u001b[0m\u001b[0minner_kwargs\u001b[0m\u001b[0;34m)\u001b[0m\u001b[0;34m\u001b[0m\u001b[0m\n\u001b[1;32m    915\u001b[0m                 \u001b[0mplan\u001b[0m \u001b[0;34m=\u001b[0m \u001b[0mwrapper\u001b[0m\u001b[0;34m(\u001b[0m\u001b[0mplan\u001b[0m\u001b[0;34m,\u001b[0m \u001b[0;34m*\u001b[0m\u001b[0margs\u001b[0m\u001b[0;34m,\u001b[0m \u001b[0;34m**\u001b[0m\u001b[0mkwargs\u001b[0m\u001b[0;34m)\u001b[0m\u001b[0;34m\u001b[0m\u001b[0m\n\u001b[0;32m--> 916\u001b[0;31m                 \u001b[0;32mreturn\u001b[0m \u001b[0;34m(\u001b[0m\u001b[0;32myield\u001b[0m \u001b[0;32mfrom\u001b[0m \u001b[0mplan\u001b[0m\u001b[0;34m)\u001b[0m\u001b[0;34m\u001b[0m\u001b[0m\n\u001b[0m\u001b[1;32m    917\u001b[0m             \u001b[0;32mreturn\u001b[0m \u001b[0mdec_inner\u001b[0m\u001b[0;34m\u001b[0m\u001b[0m\n\u001b[1;32m    918\u001b[0m         \u001b[0;32mreturn\u001b[0m \u001b[0mdec\u001b[0m\u001b[0;34m\u001b[0m\u001b[0m\n",
      "\u001b[0;32m~/conda/installs/rhel7/envs/skywalker/lib/python3.6/site-packages/bluesky/plans.py\u001b[0m in \u001b[0;36mrun_wrapper\u001b[0;34m(plan, md)\u001b[0m\n\u001b[1;32m    844\u001b[0m     \u001b[0mrs_uid\u001b[0m \u001b[0;34m=\u001b[0m \u001b[0;32myield\u001b[0m \u001b[0;32mfrom\u001b[0m \u001b[0mopen_run\u001b[0m\u001b[0;34m(\u001b[0m\u001b[0mmd\u001b[0m\u001b[0;34m)\u001b[0m\u001b[0;34m\u001b[0m\u001b[0m\n\u001b[1;32m    845\u001b[0m     yield from finalize_wrapper(plan,\n\u001b[0;32m--> 846\u001b[0;31m                                 close_run())\n\u001b[0m\u001b[1;32m    847\u001b[0m     \u001b[0;32mreturn\u001b[0m \u001b[0mrs_uid\u001b[0m\u001b[0;34m\u001b[0m\u001b[0m\n\u001b[1;32m    848\u001b[0m \u001b[0;34m\u001b[0m\u001b[0m\n",
      "\u001b[0;32m~/conda/installs/rhel7/envs/skywalker/lib/python3.6/site-packages/bluesky/plans.py\u001b[0m in \u001b[0;36mfinalize_wrapper\u001b[0;34m(plan, final_plan, pause_for_debug)\u001b[0m\n\u001b[1;32m    995\u001b[0m     \u001b[0mcleanup\u001b[0m \u001b[0;34m=\u001b[0m \u001b[0;32mTrue\u001b[0m\u001b[0;34m\u001b[0m\u001b[0m\n\u001b[1;32m    996\u001b[0m     \u001b[0;32mtry\u001b[0m\u001b[0;34m:\u001b[0m\u001b[0;34m\u001b[0m\u001b[0m\n\u001b[0;32m--> 997\u001b[0;31m         \u001b[0mret\u001b[0m \u001b[0;34m=\u001b[0m \u001b[0;32myield\u001b[0m \u001b[0;32mfrom\u001b[0m \u001b[0mplan\u001b[0m\u001b[0;34m\u001b[0m\u001b[0m\n\u001b[0m\u001b[1;32m    998\u001b[0m     \u001b[0;32mexcept\u001b[0m \u001b[0mGeneratorExit\u001b[0m\u001b[0;34m:\u001b[0m\u001b[0;34m\u001b[0m\u001b[0m\n\u001b[1;32m    999\u001b[0m         \u001b[0mcleanup\u001b[0m \u001b[0;34m=\u001b[0m \u001b[0;32mFalse\u001b[0m\u001b[0;34m\u001b[0m\u001b[0m\n",
      "\u001b[0;32m~/conda/installs/rhel7/envs/skywalker/lib/python3.6/site-packages/bluesky/utils.py\u001b[0m in \u001b[0;36mdec_inner\u001b[0;34m(*inner_args, **inner_kwargs)\u001b[0m\n\u001b[1;32m    914\u001b[0m                 \u001b[0mplan\u001b[0m \u001b[0;34m=\u001b[0m \u001b[0mgen_func\u001b[0m\u001b[0;34m(\u001b[0m\u001b[0;34m*\u001b[0m\u001b[0minner_args\u001b[0m\u001b[0;34m,\u001b[0m \u001b[0;34m**\u001b[0m\u001b[0minner_kwargs\u001b[0m\u001b[0;34m)\u001b[0m\u001b[0;34m\u001b[0m\u001b[0m\n\u001b[1;32m    915\u001b[0m                 \u001b[0mplan\u001b[0m \u001b[0;34m=\u001b[0m \u001b[0mwrapper\u001b[0m\u001b[0;34m(\u001b[0m\u001b[0mplan\u001b[0m\u001b[0;34m,\u001b[0m \u001b[0;34m*\u001b[0m\u001b[0margs\u001b[0m\u001b[0;34m,\u001b[0m \u001b[0;34m**\u001b[0m\u001b[0mkwargs\u001b[0m\u001b[0;34m)\u001b[0m\u001b[0;34m\u001b[0m\u001b[0m\n\u001b[0;32m--> 916\u001b[0;31m                 \u001b[0;32mreturn\u001b[0m \u001b[0;34m(\u001b[0m\u001b[0;32myield\u001b[0m \u001b[0;32mfrom\u001b[0m \u001b[0mplan\u001b[0m\u001b[0;34m)\u001b[0m\u001b[0;34m\u001b[0m\u001b[0m\n\u001b[0m\u001b[1;32m    917\u001b[0m             \u001b[0;32mreturn\u001b[0m \u001b[0mdec_inner\u001b[0m\u001b[0;34m\u001b[0m\u001b[0m\n\u001b[1;32m    918\u001b[0m         \u001b[0;32mreturn\u001b[0m \u001b[0mdec\u001b[0m\u001b[0;34m\u001b[0m\u001b[0m\n",
      "\u001b[0;32m~/conda/installs/rhel7/envs/skywalker/lib/python3.6/site-packages/bluesky/plans.py\u001b[0m in \u001b[0;36mstage_wrapper\u001b[0;34m(plan, devices)\u001b[0m\n\u001b[1;32m   1480\u001b[0m         \u001b[0;32mreturn\u001b[0m \u001b[0;34m(\u001b[0m\u001b[0;32myield\u001b[0m \u001b[0;32mfrom\u001b[0m \u001b[0mplan\u001b[0m\u001b[0;34m)\u001b[0m\u001b[0;34m\u001b[0m\u001b[0m\n\u001b[1;32m   1481\u001b[0m \u001b[0;34m\u001b[0m\u001b[0m\n\u001b[0;32m-> 1482\u001b[0;31m     \u001b[0;32mreturn\u001b[0m \u001b[0;34m(\u001b[0m\u001b[0;32myield\u001b[0m \u001b[0;32mfrom\u001b[0m \u001b[0mfinalize_wrapper\u001b[0m\u001b[0;34m(\u001b[0m\u001b[0minner\u001b[0m\u001b[0;34m(\u001b[0m\u001b[0;34m)\u001b[0m\u001b[0;34m,\u001b[0m \u001b[0munstage_devices\u001b[0m\u001b[0;34m(\u001b[0m\u001b[0;34m)\u001b[0m\u001b[0;34m)\u001b[0m\u001b[0;34m)\u001b[0m\u001b[0;34m\u001b[0m\u001b[0m\n\u001b[0m\u001b[1;32m   1483\u001b[0m \u001b[0;34m\u001b[0m\u001b[0m\n\u001b[1;32m   1484\u001b[0m \u001b[0;34m\u001b[0m\u001b[0m\n",
      "\u001b[0;32m~/conda/installs/rhel7/envs/skywalker/lib/python3.6/site-packages/bluesky/plans.py\u001b[0m in \u001b[0;36mfinalize_wrapper\u001b[0;34m(plan, final_plan, pause_for_debug)\u001b[0m\n\u001b[1;32m   1014\u001b[0m         \u001b[0;31m# https://docs.python.org/3/reference/expressions.html?#generator.close\u001b[0m\u001b[0;34m\u001b[0m\u001b[0;34m\u001b[0m\u001b[0m\n\u001b[1;32m   1015\u001b[0m         \u001b[0;32mif\u001b[0m \u001b[0mcleanup\u001b[0m\u001b[0;34m:\u001b[0m\u001b[0;34m\u001b[0m\u001b[0m\n\u001b[0;32m-> 1016\u001b[0;31m             \u001b[0;32myield\u001b[0m \u001b[0;32mfrom\u001b[0m \u001b[0mensure_generator\u001b[0m\u001b[0;34m(\u001b[0m\u001b[0mfinal_plan_instance\u001b[0m\u001b[0;34m)\u001b[0m\u001b[0;34m\u001b[0m\u001b[0m\n\u001b[0m\u001b[1;32m   1017\u001b[0m     \u001b[0;32mreturn\u001b[0m \u001b[0mret\u001b[0m\u001b[0;34m\u001b[0m\u001b[0m\n\u001b[1;32m   1018\u001b[0m \u001b[0;34m\u001b[0m\u001b[0m\n",
      "\u001b[0;32m~/conda/installs/rhel7/envs/skywalker/lib/python3.6/site-packages/bluesky/plans.py\u001b[0m in \u001b[0;36munstage_devices\u001b[0;34m()\u001b[0m\n\u001b[1;32m   1474\u001b[0m     \u001b[0;32mdef\u001b[0m \u001b[0munstage_devices\u001b[0m\u001b[0;34m(\u001b[0m\u001b[0;34m)\u001b[0m\u001b[0;34m:\u001b[0m\u001b[0;34m\u001b[0m\u001b[0m\n\u001b[1;32m   1475\u001b[0m         \u001b[0;32mfor\u001b[0m \u001b[0md\u001b[0m \u001b[0;32min\u001b[0m \u001b[0mreversed\u001b[0m\u001b[0;34m(\u001b[0m\u001b[0mdevices\u001b[0m\u001b[0;34m)\u001b[0m\u001b[0;34m:\u001b[0m\u001b[0;34m\u001b[0m\u001b[0m\n\u001b[0;32m-> 1476\u001b[0;31m             \u001b[0;32myield\u001b[0m \u001b[0mMsg\u001b[0m\u001b[0;34m(\u001b[0m\u001b[0;34m'unstage'\u001b[0m\u001b[0;34m,\u001b[0m \u001b[0md\u001b[0m\u001b[0;34m)\u001b[0m\u001b[0;34m\u001b[0m\u001b[0m\n\u001b[0m\u001b[1;32m   1477\u001b[0m \u001b[0;34m\u001b[0m\u001b[0m\n\u001b[1;32m   1478\u001b[0m     \u001b[0;32mdef\u001b[0m \u001b[0minner\u001b[0m\u001b[0;34m(\u001b[0m\u001b[0;34m)\u001b[0m\u001b[0;34m:\u001b[0m\u001b[0;34m\u001b[0m\u001b[0m\n",
      "\u001b[0;32m~/conda/installs/rhel7/envs/skywalker/lib/python3.6/site-packages/bluesky/run_engine.py\u001b[0m in \u001b[0;36m_run\u001b[0;34m(self)\u001b[0m\n\u001b[1;32m    970\u001b[0m                         \u001b[0;31m# exceptions (coming in via throw) can be\u001b[0m\u001b[0;34m\u001b[0m\u001b[0;34m\u001b[0m\u001b[0m\n\u001b[1;32m    971\u001b[0m                         \u001b[0;31m# raised\u001b[0m\u001b[0;34m\u001b[0m\u001b[0;34m\u001b[0m\u001b[0m\n\u001b[0;32m--> 972\u001b[0;31m                         \u001b[0mresponse\u001b[0m \u001b[0;34m=\u001b[0m \u001b[0;32myield\u001b[0m \u001b[0;32mfrom\u001b[0m \u001b[0mcoro\u001b[0m\u001b[0;34m(\u001b[0m\u001b[0mmsg\u001b[0m\u001b[0;34m)\u001b[0m\u001b[0;34m\u001b[0m\u001b[0m\n\u001b[0m\u001b[1;32m    973\u001b[0m                     \u001b[0;31m# special case `CancelledError` and let the outer\u001b[0m\u001b[0;34m\u001b[0m\u001b[0;34m\u001b[0m\u001b[0m\n\u001b[1;32m    974\u001b[0m                     \u001b[0;31m# exception block deal with it.\u001b[0m\u001b[0;34m\u001b[0m\u001b[0;34m\u001b[0m\u001b[0m\n",
      "\u001b[0;32m~/conda/installs/rhel7/envs/skywalker/lib/python3.6/site-packages/bluesky/run_engine.py\u001b[0m in \u001b[0;36m_unstage\u001b[0;34m(self, msg)\u001b[0m\n\u001b[1;32m   1882\u001b[0m         \u001b[0;32mif\u001b[0m \u001b[0;32mnot\u001b[0m \u001b[0mhasattr\u001b[0m\u001b[0;34m(\u001b[0m\u001b[0mobj\u001b[0m\u001b[0;34m,\u001b[0m \u001b[0;34m'unstage'\u001b[0m\u001b[0;34m)\u001b[0m\u001b[0;34m:\u001b[0m\u001b[0;34m\u001b[0m\u001b[0m\n\u001b[1;32m   1883\u001b[0m             \u001b[0;32mreturn\u001b[0m \u001b[0;34m[\u001b[0m\u001b[0;34m]\u001b[0m\u001b[0;34m\u001b[0m\u001b[0m\n\u001b[0;32m-> 1884\u001b[0;31m         \u001b[0mresult\u001b[0m \u001b[0;34m=\u001b[0m \u001b[0mobj\u001b[0m\u001b[0;34m.\u001b[0m\u001b[0munstage\u001b[0m\u001b[0;34m(\u001b[0m\u001b[0;34m)\u001b[0m\u001b[0;34m\u001b[0m\u001b[0m\n\u001b[0m\u001b[1;32m   1885\u001b[0m         \u001b[0;31m# use `discard()` to ignore objects that are not in the staged set.\u001b[0m\u001b[0;34m\u001b[0m\u001b[0;34m\u001b[0m\u001b[0m\n\u001b[1;32m   1886\u001b[0m         \u001b[0mself\u001b[0m\u001b[0;34m.\u001b[0m\u001b[0m_staged\u001b[0m\u001b[0;34m.\u001b[0m\u001b[0mdiscard\u001b[0m\u001b[0;34m(\u001b[0m\u001b[0mobj\u001b[0m\u001b[0;34m)\u001b[0m\u001b[0;34m\u001b[0m\u001b[0m\n",
      "\u001b[0;32m/reg/neh/home4/zlentz/skywalker/pcds-devices/pcdsdevices/epics/attenuator.py\u001b[0m in \u001b[0;36munstage\u001b[0;34m(self)\u001b[0m\n\u001b[1;32m    315\u001b[0m \u001b[0;34m\u001b[0m\u001b[0m\n\u001b[1;32m    316\u001b[0m     \u001b[0;32mdef\u001b[0m \u001b[0munstage\u001b[0m\u001b[0;34m(\u001b[0m\u001b[0mself\u001b[0m\u001b[0;34m)\u001b[0m\u001b[0;34m:\u001b[0m\u001b[0;34m\u001b[0m\u001b[0m\n\u001b[0;32m--> 317\u001b[0;31m         \u001b[0mself\u001b[0m\u001b[0;34m.\u001b[0m\u001b[0mall_out\u001b[0m\u001b[0;34m(\u001b[0m\u001b[0;34m)\u001b[0m\u001b[0;34m\u001b[0m\u001b[0m\n\u001b[0m\u001b[1;32m    318\u001b[0m         \u001b[0;31m#self.set_transmission(self._cached_trans)\u001b[0m\u001b[0;34m\u001b[0m\u001b[0;34m\u001b[0m\u001b[0m\n\u001b[1;32m    319\u001b[0m         \u001b[0;32mreturn\u001b[0m \u001b[0msuper\u001b[0m\u001b[0;34m(\u001b[0m\u001b[0;34m)\u001b[0m\u001b[0;34m.\u001b[0m\u001b[0munstage\u001b[0m\u001b[0;34m(\u001b[0m\u001b[0;34m)\u001b[0m\u001b[0;34m\u001b[0m\u001b[0m\n",
      "\u001b[0;32m/reg/neh/home4/zlentz/skywalker/pcds-devices/pcdsdevices/epics/attenuator.py\u001b[0m in \u001b[0;36mall_out\u001b[0;34m(self)\u001b[0m\n\u001b[1;32m    169\u001b[0m         \"\"\"\n\u001b[1;32m    170\u001b[0m         \u001b[0mlogger\u001b[0m\u001b[0;34m.\u001b[0m\u001b[0mdebug\u001b[0m\u001b[0;34m(\u001b[0m\u001b[0;34m\"For %s, moving all filters OUT!\"\u001b[0m\u001b[0;34m,\u001b[0m \u001b[0mself\u001b[0m\u001b[0;34m.\u001b[0m\u001b[0mname\u001b[0m \u001b[0;32mor\u001b[0m \u001b[0mself\u001b[0m\u001b[0;34m)\u001b[0m\u001b[0;34m\u001b[0m\u001b[0m\n\u001b[0;32m--> 171\u001b[0;31m         \u001b[0mself\u001b[0m\u001b[0;34m.\u001b[0m\u001b[0mgo_cmd\u001b[0m\u001b[0;34m.\u001b[0m\u001b[0mput\u001b[0m\u001b[0;34m(\u001b[0m\u001b[0;36m0\u001b[0m\u001b[0;34m)\u001b[0m\u001b[0;34m\u001b[0m\u001b[0m\n\u001b[0m\u001b[1;32m    172\u001b[0m \u001b[0;34m\u001b[0m\u001b[0m\n\u001b[1;32m    173\u001b[0m     \u001b[0;32mdef\u001b[0m \u001b[0mset_energy\u001b[0m\u001b[0;34m(\u001b[0m\u001b[0mself\u001b[0m\u001b[0;34m,\u001b[0m \u001b[0menergy\u001b[0m\u001b[0;34m=\u001b[0m\u001b[0;32mNone\u001b[0m\u001b[0;34m,\u001b[0m \u001b[0muse3rd\u001b[0m\u001b[0;34m=\u001b[0m\u001b[0;32mFalse\u001b[0m\u001b[0;34m)\u001b[0m\u001b[0;34m:\u001b[0m\u001b[0;34m\u001b[0m\u001b[0m\n",
      "\u001b[0;32m~/conda/installs/rhel7/envs/skywalker/lib/python3.6/site-packages/ophyd/device.py\u001b[0m in \u001b[0;36m__get__\u001b[0;34m(self, instance, owner)\u001b[0m\n\u001b[1;32m    170\u001b[0m \u001b[0;34m\u001b[0m\u001b[0m\n\u001b[1;32m    171\u001b[0m         \u001b[0;32mif\u001b[0m \u001b[0mself\u001b[0m\u001b[0;34m.\u001b[0m\u001b[0mattr\u001b[0m \u001b[0;32mnot\u001b[0m \u001b[0;32min\u001b[0m \u001b[0minstance\u001b[0m\u001b[0;34m.\u001b[0m\u001b[0m_signals\u001b[0m\u001b[0;34m:\u001b[0m\u001b[0;34m\u001b[0m\u001b[0m\n\u001b[0;32m--> 172\u001b[0;31m             \u001b[0minstance\u001b[0m\u001b[0;34m.\u001b[0m\u001b[0m_signals\u001b[0m\u001b[0;34m[\u001b[0m\u001b[0mself\u001b[0m\u001b[0;34m.\u001b[0m\u001b[0mattr\u001b[0m\u001b[0;34m]\u001b[0m \u001b[0;34m=\u001b[0m \u001b[0mself\u001b[0m\u001b[0;34m.\u001b[0m\u001b[0mcreate_component\u001b[0m\u001b[0;34m(\u001b[0m\u001b[0minstance\u001b[0m\u001b[0;34m)\u001b[0m\u001b[0;34m\u001b[0m\u001b[0m\n\u001b[0m\u001b[1;32m    173\u001b[0m \u001b[0;34m\u001b[0m\u001b[0m\n\u001b[1;32m    174\u001b[0m         \u001b[0;32mreturn\u001b[0m \u001b[0minstance\u001b[0m\u001b[0;34m.\u001b[0m\u001b[0m_signals\u001b[0m\u001b[0;34m[\u001b[0m\u001b[0mself\u001b[0m\u001b[0;34m.\u001b[0m\u001b[0mattr\u001b[0m\u001b[0;34m]\u001b[0m\u001b[0;34m\u001b[0m\u001b[0m\n",
      "\u001b[0;32m~/conda/installs/rhel7/envs/skywalker/lib/python3.6/site-packages/ophyd/device.py\u001b[0m in \u001b[0;36mcreate_component\u001b[0;34m(self, instance)\u001b[0m\n\u001b[1;32m    130\u001b[0m \u001b[0;34m\u001b[0m\u001b[0m\n\u001b[1;32m    131\u001b[0m         \u001b[0;32mif\u001b[0m \u001b[0mself\u001b[0m\u001b[0;34m.\u001b[0m\u001b[0mlazy\u001b[0m \u001b[0;32mand\u001b[0m \u001b[0mhasattr\u001b[0m\u001b[0;34m(\u001b[0m\u001b[0mself\u001b[0m\u001b[0;34m.\u001b[0m\u001b[0mcls\u001b[0m\u001b[0;34m,\u001b[0m \u001b[0;34m'wait_for_connection'\u001b[0m\u001b[0;34m)\u001b[0m\u001b[0;34m:\u001b[0m\u001b[0;34m\u001b[0m\u001b[0m\n\u001b[0;32m--> 132\u001b[0;31m             \u001b[0mcpt_inst\u001b[0m\u001b[0;34m.\u001b[0m\u001b[0mwait_for_connection\u001b[0m\u001b[0;34m(\u001b[0m\u001b[0;34m)\u001b[0m\u001b[0;34m\u001b[0m\u001b[0m\n\u001b[0m\u001b[1;32m    133\u001b[0m \u001b[0;34m\u001b[0m\u001b[0m\n\u001b[1;32m    134\u001b[0m         \u001b[0;32mreturn\u001b[0m \u001b[0mcpt_inst\u001b[0m\u001b[0;34m\u001b[0m\u001b[0m\n",
      "\u001b[0;32m~/conda/installs/rhel7/envs/skywalker/lib/python3.6/site-packages/ophyd/signal.py\u001b[0m in \u001b[0;36mwait_for_connection\u001b[0;34m(self, timeout)\u001b[0m\n\u001b[1;32m    713\u001b[0m \u001b[0;34m\u001b[0m\u001b[0m\n\u001b[1;32m    714\u001b[0m     \u001b[0;32mdef\u001b[0m \u001b[0mwait_for_connection\u001b[0m\u001b[0;34m(\u001b[0m\u001b[0mself\u001b[0m\u001b[0;34m,\u001b[0m \u001b[0mtimeout\u001b[0m\u001b[0;34m=\u001b[0m\u001b[0;36m1.0\u001b[0m\u001b[0;34m)\u001b[0m\u001b[0;34m:\u001b[0m\u001b[0;34m\u001b[0m\u001b[0m\n\u001b[0;32m--> 715\u001b[0;31m         \u001b[0msuper\u001b[0m\u001b[0;34m(\u001b[0m\u001b[0;34m)\u001b[0m\u001b[0;34m.\u001b[0m\u001b[0mwait_for_connection\u001b[0m\u001b[0;34m(\u001b[0m\u001b[0mtimeout\u001b[0m\u001b[0;34m=\u001b[0m\u001b[0mtimeout\u001b[0m\u001b[0;34m)\u001b[0m\u001b[0;34m\u001b[0m\u001b[0m\n\u001b[0m\u001b[1;32m    716\u001b[0m \u001b[0;34m\u001b[0m\u001b[0m\n\u001b[1;32m    717\u001b[0m         \u001b[0;32mwith\u001b[0m \u001b[0mself\u001b[0m\u001b[0;34m.\u001b[0m\u001b[0m_lock\u001b[0m\u001b[0;34m:\u001b[0m\u001b[0;34m\u001b[0m\u001b[0m\n",
      "\u001b[0;32m~/conda/installs/rhel7/envs/skywalker/lib/python3.6/site-packages/ophyd/signal.py\u001b[0m in \u001b[0;36mwait_for_connection\u001b[0;34m(self, timeout)\u001b[0m\n\u001b[1;32m    470\u001b[0m             \u001b[0;32mif\u001b[0m \u001b[0;32mnot\u001b[0m \u001b[0mself\u001b[0m\u001b[0;34m.\u001b[0m\u001b[0m_read_pv\u001b[0m\u001b[0;34m.\u001b[0m\u001b[0mwait_for_connection\u001b[0m\u001b[0;34m(\u001b[0m\u001b[0mtimeout\u001b[0m\u001b[0;34m=\u001b[0m\u001b[0mtimeout\u001b[0m\u001b[0;34m)\u001b[0m\u001b[0;34m:\u001b[0m\u001b[0;34m\u001b[0m\u001b[0m\n\u001b[1;32m    471\u001b[0m                 raise TimeoutError('Failed to connect to %s' %\n\u001b[0;32m--> 472\u001b[0;31m                                    self._read_pv.pvname)\n\u001b[0m\u001b[1;32m    473\u001b[0m \u001b[0;34m\u001b[0m\u001b[0m\n\u001b[1;32m    474\u001b[0m     \u001b[0;34m@\u001b[0m\u001b[0mproperty\u001b[0m\u001b[0;34m\u001b[0m\u001b[0m\n",
      "\u001b[0;31mTimeoutError\u001b[0m: Failed to connect to SATT:FEE:320:COM:GO"
     ]
    }
   ],
   "source": [
    "logging.debug(\"Start of Run\")\n",
    "RE(plan)"
   ]
  },
  {
   "cell_type": "code",
   "execution_count": null,
   "metadata": {
    "collapsed": true
   },
   "outputs": [],
   "source": [
    "#Print Run Statistics\n",
    "report = watcher.report()"
   ]
  },
  {
   "cell_type": "markdown",
   "metadata": {},
   "source": [
    "Run Notes\n",
    "------"
   ]
  },
  {
   "cell_type": "markdown",
   "metadata": {},
   "source": []
  }
 ],
 "metadata": {
  "kernelspec": {
   "display_name": "Python 3",
   "language": "python",
   "name": "python3"
  },
  "language_info": {
   "codemirror_mode": {
    "name": "ipython",
    "version": 3
   },
   "file_extension": ".py",
   "mimetype": "text/x-python",
   "name": "python",
   "nbconvert_exporter": "python",
   "pygments_lexer": "ipython3",
   "version": "3.6.2"
  }
 },
 "nbformat": 4,
 "nbformat_minor": 2
}
